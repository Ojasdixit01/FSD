{
 "cells": [
  {
   "cell_type": "code",
   "execution_count": null,
   "id": "d5f1e5bb",
   "metadata": {},
   "outputs": [],
   "source": []
  }
 ],
 "metadata": {
  "language_info": {
   "name": "python"
  }
 },
 "nbformat": 4,
 "nbformat_minor": 5
}
